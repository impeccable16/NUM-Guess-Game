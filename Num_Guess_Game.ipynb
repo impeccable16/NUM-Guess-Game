{
  "nbformat": 4,
  "nbformat_minor": 0,
  "metadata": {
    "colab": {
      "provenance": []
    },
    "kernelspec": {
      "name": "python3",
      "display_name": "Python 3"
    },
    "language_info": {
      "name": "python"
    }
  },
  "cells": [
    {
      "cell_type": "code",
      "execution_count": 2,
      "metadata": {
        "id": "BK0OA32LoEYf"
      },
      "outputs": [],
      "source": [
        "import random\n",
        "import math\n",
        " \n",
        " "
      ]
    },
    {
      "cell_type": "code",
      "source": [
        "# Taking Inputs\n",
        "lower = int(input(\"Enter Lower bound:- \"))\n",
        " \n",
        "# Taking Inputs\n",
        "upper = int(input(\"Enter Upper bound:- \"))\n",
        " \n",
        "# generating random number between\n",
        "# the lower and upper\n",
        "x = random.randint(lower, upper)\n",
        "print(\"\\n\\tYou've only \", round(math.log(upper - lower + 1, 2)),\" chances to guess the integer!\\n\")"
      ],
      "metadata": {
        "colab": {
          "base_uri": "https://localhost:8080/"
        },
        "id": "USiI9Qc4oRfV",
        "outputId": "ed005620-7a4c-4293-baef-0fad55c159c4"
      },
      "execution_count": 3,
      "outputs": [
        {
          "output_type": "stream",
          "name": "stdout",
          "text": [
            "Enter Lower bound:- 6\n",
            "Enter Upper bound:- 50\n",
            "\n",
            "\tYou've only  5  chances to guess the integer!\n",
            "\n"
          ]
        }
      ]
    },
    {
      "cell_type": "code",
      "source": [
        " \n",
        "# Initializing the number of guesses.\n",
        "count = 0\n",
        " \n",
        "# for calculation of minimum number of\n",
        "# guesses depends upon range\n",
        "while count < math.log(upper - lower + 1, 2):\n",
        "    count += 1\n",
        " \n",
        "    # taking guessing number as input\n",
        "    guess = int(input(\"Guess a number:- \"))\n",
        " \n",
        "    # Condition testing\n",
        "    if x == guess:\n",
        "        print(\"Congratulations you did it in \",\n",
        "              count, \" try\")\n",
        "        # Once guessed, loop will break\n",
        "        break\n",
        "    elif x > guess:\n",
        "        print(\"You guessed too small!\")\n",
        "    elif x < guess:\n",
        "        print(\"You Guessed too high!\")\n",
        " \n",
        "# If Guessing is more than required guesses,\n",
        "# shows this output.\n",
        "if count >= math.log(upper - lower + 1, 2):\n",
        "    print(\"\\nThe number is %d\" % x)\n",
        "    print(\"\\tBetter Luck Next time!\")\n",
        " "
      ],
      "metadata": {
        "colab": {
          "base_uri": "https://localhost:8080/"
        },
        "id": "2iUq-Nx_oe4a",
        "outputId": "68660ce8-d6b7-4991-89cc-4bd00ccf308a"
      },
      "execution_count": 4,
      "outputs": [
        {
          "output_type": "stream",
          "name": "stdout",
          "text": [
            "Guess a number:- 9\n",
            "You guessed too small!\n",
            "Guess a number:- 35\n",
            "You guessed too small!\n",
            "Guess a number:- 45\n",
            "You Guessed too high!\n",
            "Guess a number:- 40\n",
            "You guessed too small!\n",
            "Guess a number:- 43\n",
            "Congratulations you did it in  5  try\n"
          ]
        }
      ]
    }
  ]
}